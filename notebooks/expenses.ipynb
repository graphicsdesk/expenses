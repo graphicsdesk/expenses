{
 "cells": [
  {
   "cell_type": "markdown",
   "metadata": {},
   "source": [
    "# Guiding questions\n",
    "\n",
    "How have Columbia's fiscal priorities shifted over the years?"
   ]
  },
  {
   "cell_type": "code",
   "execution_count": 3,
   "metadata": {},
   "outputs": [],
   "source": [
    "from tika import parser\n",
    "\n",
    "import pandas as pd\n",
    "import numpy as np\n",
    "import matplotlib.pyplot as plt"
   ]
  },
  {
   "cell_type": "code",
   "execution_count": 4,
   "metadata": {},
   "outputs": [
    {
     "name": "stderr",
     "output_type": "stream",
     "text": [
      "2019-03-20 23:50:34,151 [MainThread  ] [INFO ]  Retrieving http://search.maven.org/remotecontent?filepath=org/apache/tika/tika-server/1.19/tika-server-1.19.jar to /var/folders/96/rq1hwr2n4vgclll848xlqdy80000gn/T/tika-server.jar.\n",
      "2019-03-20 23:50:40,179 [MainThread  ] [INFO ]  Retrieving http://search.maven.org/remotecontent?filepath=org/apache/tika/tika-server/1.19/tika-server-1.19.jar.md5 to /var/folders/96/rq1hwr2n4vgclll848xlqdy80000gn/T/tika-server.jar.md5.\n",
      "2019-03-20 23:50:40,395 [MainThread  ] [WARNI]  Failed to see startup log message; retrying...\n"
     ]
    }
   ],
   "source": [
    "raw = parser.from_file('../data/Expenses-2016_17.pdf')"
   ]
  },
  {
   "cell_type": "code",
   "execution_count": 12,
   "metadata": {},
   "outputs": [
    {
     "data": {
      "text/plain": [
       "\"Part E-1 - Expenses by Functional Classification\\nFiscal Year: July 1, 2016 - June 30, 2017\\n\\nReport Total Operating AND Nonoperating Expenses in this section\\nLine No. Expense: Functional Classifications Total amount Prior Year\\n\\nTotal Amount\\nSalaries and wages Prior Year\\n\\nSalaries and wages\\n (1)  (2)  \\n\\n01 Instruction  2,611,938,000  2,465,409,000  1,401,638,000  1,313,392,000\\n02 Research  668,722,000  619,443,000  261,819,000  246,342,000\\n03 Public service  221,091,000  176,148,000  27,321,000  25,097,000\\n04 Academic support  121,838,000  117,529,000  26,028,000  28,163,000\\n05 Student services  154,168,000  143,945,000  65,256,000  60,098,000\\n06 Institutional support  365,957,000  323,193,000  193,619,000  187,132,000\\n07 Auxiliary enterprises  241,200,000  198,735,000  53,273,000  50,550,000\\n08 Net grant aid to students,\\n\\nnet of discount/allowances\\n 0  0   \\n\\n09 Hospital services  0  0  0  0\\n10 Independent operations  0  0  0  0\\n12 Other Functional Expenses and deductions\\n\\nCV=[E13-(E01+...+E10)]\\n 0  0  0  0\\n\\n13 Total expenses and Deductions  4,384,914,000  4,044,402,000  2,028,954,000  1,910,774,000\\n \\n \\nInstitution: Columbia University in the City of New York (190150)\\n\\nPart E-2 - Expenses by Natural Classification\\nFiscal Year: July 1, 2016 - June 30, 2017\\n\\nLine No. Expense: Natural Classifications Total Amount Prior year amount\\n   \\n\\n13-2 Salaries and Wages(from Part E-1, line 13 column 2)  2,028,954,000  1,910,774,000\\n13-3 Benefits  504,735,000  461,417,000\\n13-4 Operation and Maintenance of Plant (as a natural expense)  260,529,000  233,368,000\\n13-5 Depreciation  271,379,000  207,114,000\\n13-6 Interest  60,838,000  44,116,000\\n13-7 Other Natural Expenses and Deductions\\n\\nCV=[E13-1 - (E13-2 + ... + E13-6)]\\n 1,258,479,000  1,187,613,000\\n\\n13-1 Total Expenses and Deductions\\n(from Part E-1, Line 13)\\n\\n 4,384,914,000  4,044,402,000\\n\\n14-1 12-month Student FTE (from E12 survey)  29,105  27,710\\n15-1 Total expenses and deductions per student FTE\\n\\nCV=[E13/E14]\\n 150,658   \\n\\n \\nYou may use the space below to provide context for the data you've reported above.\\n \\n\\n \\nInstitution: Columbia University in the City of New York (190150)\\n\\nPart H - Value of Endowment Assets\\nFiscal Year: July 1, 2016 - June 30, 2017\\n\\nLine\\nNo.\\n\\nValue of Endowment Assets Market Value Prior Year\\nAmounts\\n\\n  Include not only endowment assets held by the institution, but any assets held by\\nprivate foundations affiliated with the institution.\\n\\n  \\n\\n01 Value of endowment assets at the beginning of the fiscal year  9,041,027,000  9,639,065,000\\n02 Value of endowment assets at the end of the fiscal year  9,996,596,000  9,041,027,000\\n\\n \\nYou may use the space below to provide context for the data you've reported above.\\n \\n\\n\\n\\n \\nInstitution: Columbia University in the City of New York (190150)\\n\\nSummary\\nFinance Survey Summary\\n\\nIPEDS collects important information regarding your institution. All data reported in IPEDS survey components become available\\nin the IPEDS Data Center and appear as aggregated data in various Department of Education reports. Additionally, some of the\\nreported data appears specifically for your institution through the College Navigator website and is included in your institution’s\\nData Feedback Report (DFR). The purpose of this summary is to provide you an opportunity to view some of the data that,\\nwhen accepted through the IPEDS quality control process, will appear on the College Navigator website and/or your DFR.\\nCollege Navigator is updated approximately three months after the data collection period closes and Data Feedback Reports will\\nbe available through the Data Center and sent to your institution’s CEO in November 2017.\\n\\nPlease review your data for accuracy. If you have questions about the data displayed below after reviewing the data reported on\\nthe survey screens, please contact the IPEDS Help Desk at: 1-877-225-2568 or ipedshelp@rti.org.\\n\\nCore Revenues\\n\\nRevenue Source Reported values Percent of total core\\nrevenues\\n\\nCore revenues per FTE\\nenrollment\\n\\nTuition and fees $1,085,452,000 19% $37,294\\n\\nGovernment grants and contracts $890,835,000 16% $30,608\\n\\nPrivate gifts, grants, and contracts $937,937,000 17% $32,226\\n\\nInvestment return $1,242,689,000 22% $42,697\\n\\nOther core revenues $1,440,480,000 26% $49,493\\n\\nTotal core revenues $5,597,393,000 100% $192,317\\n\\n \\n\\nTotal revenues $5,773,140,000  $198,356\\n\\nOther core revenues include government appropriations (federal, state, and local), sales and services of educational activities;\\nand other sources. Core revenues exclude revenues from auxiliary enterprises (e.g., bookstores, dormitories), hospitals, and\\nindependent operations. For institutions reporting in Full parent/child relationships, core revenues per FTE enrollment amounts\\nwill not be allocated to child institutions.\\n\\nCore Expenses\\n\\nExpense function Reported values Percent of total core\\nexpenses\\n\\nCore expenses per FTE\\nenrollment\\n\\nInstruction $2,611,938,000 63% $89,742\\n\\nResearch $668,722,000 16% $22,976\\n\\nPublic service $221,091,000 5% $7,596\\n\\nAcademic support $121,838,000 3% $4,186\\n\\nInstitutional support $365,957,000 9% $12,574\\n\\nStudent services $154,168,000 4% $5,297\\n\\nOther core expenses $0 0% $0\\n\\nTotal core expenses $4,143,714,000 100% $142,371\\n\\n \\n\\nTotal expenses $4,384,914,000  $150,658\\n\\n\\n\\nCore Expenses\\n\\nOther core expenses include net grant aid to students, net of discounts and allowances, and other expenses. Core expenses\\nexclude expenses from auxiliary enterprises (e.g., bookstores, dormitories), hospitals, and independent operations. For\\ninstitutions reporting in Full parent/child relationships, core expenses per FTE enrollment amounts will not be allocated to child\\ninstitutions.\\n\\n Calculated value\\nFTE enrollment 29,105\\n\\nThe full-time equivalent (FTE) enrollment used in this report is the sum of the institution’s FTE undergraduate enrollment and\\nFTE graduate enrollment (as calculated from or reported on the 12-month Enrollment component). FTE is estimated using 12-\\nmonth instructional activity (credit and/or contact hours). All doctor’s degree students are reported as graduate students.\\n\\n             \\n\\n \\n\\n\\n\""
      ]
     },
     "execution_count": 12,
     "metadata": {},
     "output_type": "execute_result"
    }
   ],
   "source": [
    "content = raw['content']\n",
    "content = content[content.find('Part E-1 - Expenses by Functional Classification'):]\n",
    "content"
   ]
  },
  {
   "cell_type": "markdown",
   "metadata": {},
   "source": [
    "# Findings"
   ]
  }
 ],
 "metadata": {
  "kernelspec": {
   "display_name": "Python 3",
   "language": "python",
   "name": "python3"
  },
  "language_info": {
   "codemirror_mode": {
    "name": "ipython",
    "version": 3
   },
   "file_extension": ".py",
   "mimetype": "text/x-python",
   "name": "python",
   "nbconvert_exporter": "python",
   "pygments_lexer": "ipython3",
   "version": "3.7.0"
  }
 },
 "nbformat": 4,
 "nbformat_minor": 2
}
